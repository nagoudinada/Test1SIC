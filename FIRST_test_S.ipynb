{
  "nbformat": 4,
  "nbformat_minor": 0,
  "metadata": {
    "colab": {
      "name": "FIRST_test S.ipynb",
      "provenance": [],
      "collapsed_sections": []
    },
    "kernelspec": {
      "name": "python3",
      "display_name": "Python 3"
    },
    "language_info": {
      "name": "python"
    }
  },
  "cells": [
    {
      "cell_type": "code",
      "metadata": {
        "colab": {
          "base_uri": "https://localhost:8080/"
        },
        "id": "acoO2u74lfep",
        "outputId": "f2e592fd-58e1-4b8c-ba92-7831d3132b05"
      },
      "source": [
        "## Quiz #0101\n",
        "def averageH(list):\n",
        "    sumH = 0\n",
        "    for i in list:\n",
        "        sumH = sumH + i\n",
        "\n",
        "    avgH = sumH / len(list)\n",
        "    return avgH\n",
        "list_height_CA = [161.5,165.9,168.7,163.1,170.8,167.2]\n",
        "list_height_CB = [172.5 , 162.9 ,161.7 ,160.1 ,161.8,169.2 ]\n",
        "print(\"The mean height in classA is\", averageH(list_height_CA))\n",
        "print(\"The mean height in classB is\", averageH(list_height_CB))\n",
        "list_height_CAB = list_height_CA + list_height_CB\n",
        "print(\"The mean height in classAB is\", averageH(list_height_CAB))\n",
        "list_height_CAB.sort()\n",
        "print(list_height_CAB)\n",
        "C =[]\n",
        "for x in list_height_CAB:\n",
        "  if x<165:\n",
        "    C.append(x)\n",
        "print(C)\n",
        "D=[]\n",
        "for j in list_height_CAB:\n",
        "  if ((x>160) and (x<170)):\n",
        "    D.append(j)\n",
        "print(D)\n"
      ],
      "execution_count": null,
      "outputs": [
        {
          "output_type": "stream",
          "text": [
            "The mean height in classA is 166.20000000000002\n",
            "The mean height in classB is 164.70000000000002\n",
            "The mean height in classAB is 165.45000000000002\n",
            "[160.1, 161.5, 161.7, 161.8, 162.9, 163.1, 165.9, 167.2, 168.7, 169.2, 170.8, 172.5]\n",
            "[160.1, 161.5, 161.7, 161.8, 162.9, 163.1]\n",
            "[]\n"
          ],
          "name": "stdout"
        }
      ]
    },
    {
      "cell_type": "code",
      "metadata": {
        "colab": {
          "base_uri": "https://localhost:8080/"
        },
        "id": "tvcDfA1WmvRM",
        "outputId": "3ed27661-1795-478f-ad5f-77fa61e5faa0"
      },
      "source": [
        "## Quiz #0102 \n",
        "a = [1, 2, 3, 4, 5, 6, 7, 8, 9, 10]\n",
        "new = list(map(lambda x: x + 1, a))\n",
        "print(new)\n",
        "\n",
        "a = [2, 4, 6, 8, 10]\n",
        "b = [10, 8, 6, 4, 2]\n",
        "NEW_mul=list(map(lambda x,y:x*y,a,b))\n",
        "print(NEW_mul)\n",
        "\n",
        "ListMUL5=list(filter(lambda x : x%5==0 , range(1,101)))\n",
        "print(ListMUL5)\n",
        "\n",
        "a = [145.2, 160.3, 155.2, 171.6, 165.34, 167.2, 161.1, 164.9]\n",
        "ListH=list(filter(lambda x : x>160 , a))\n",
        "print(ListH)\n",
        "\n",
        "ListHC = list(filter(lambda x : x>160 and x<165 , a))\n",
        "print(ListHC)\n",
        "\n",
        "a = ['Sara', 'Jack', 'Rebecca', 'Jennifer', 'Paul', 'Andrew', 'John']\n",
        "ListJ=list(filter(lambda c : c[0]==\"J\" , a))\n",
        "print(ListJ)\n"
      ],
      "execution_count": null,
      "outputs": [
        {
          "output_type": "stream",
          "text": [
            "[2, 3, 4, 5, 6, 7, 8, 9, 10, 11]\n",
            "[20, 32, 36, 32, 20]\n",
            "[5, 10, 15, 20, 25, 30, 35, 40, 45, 50, 55, 60, 65, 70, 75, 80, 85, 90, 95, 100]\n",
            "[160.3, 171.6, 165.34, 167.2, 161.1, 164.9]\n",
            "[160.3, 161.1, 164.9]\n",
            "['Jack', 'Jennifer', 'John']\n"
          ],
          "name": "stdout"
        }
      ]
    },
    {
      "cell_type": "code",
      "metadata": {
        "colab": {
          "base_uri": "https://localhost:8080/"
        },
        "id": "wpZqtd-mxtUg",
        "outputId": "7b0613e9-3e77-4b5b-943a-df04136d3393"
      },
      "source": [
        "## Quiz #0103 \n",
        "class Calculator: \n",
        "    def __init__(self,x,y):\n",
        "        self.x=x \n",
        "        self.y=y \n",
        "    def add(self): \n",
        "        return self.x+ self.y \n",
        "    def subtract(self): \n",
        "        return self.x - self.y \n",
        "    def multiply(self): \n",
        "        return self.x * self.y \n",
        "    def divide(self): \n",
        "        if self.y==0: \n",
        "            return \"You can t divide by zero!\" \n",
        "        else: \n",
        "            return self.x/self.y\n",
        "\n",
        "calc1=Calculator(5,3)\n",
        "calc2=Calculator(10,2)\n",
        "print(calc1.add())\n",
        "print(calc1.subtract())\n",
        "print(calc1.multiply())\n",
        "print(calc1.divide())\n",
        "print(calc2.add())\n",
        "print(calc2.subtract())\n",
        "print(calc2.multiply())\n",
        "print(calc2.divide())\n",
        "  "
      ],
      "execution_count": null,
      "outputs": [
        {
          "output_type": "stream",
          "text": [
            "8\n",
            "2\n",
            "15\n",
            "1.6666666666666667\n",
            "12\n",
            "8\n",
            "20\n",
            "5.0\n"
          ],
          "name": "stdout"
        }
      ]
    },
    {
      "cell_type": "code",
      "metadata": {
        "colab": {
          "base_uri": "https://localhost:8080/"
        },
        "id": "lZvClKhG0nUY",
        "outputId": "be3043f7-7819-4662-b68f-d7b740d9092a"
      },
      "source": [
        "## Quiz #0104 \n",
        "class Aquarium:\n",
        "    def __init__(self):\n",
        "        self.creatures=[]\n",
        "\n",
        "    def enters(self,creature):\n",
        "        self.creatures.append(creature)\n",
        "    def leaves(self,creature):\n",
        "        if creature not in self.creatures:\n",
        "            print(\"creature doesn't exist in the aquarium\")\n",
        "        else : \n",
        "            self.creatures.remove(creature)\n",
        "    def showall(self):\n",
        "        for i in self.creatures:\n",
        "            print(i)\n",
        " \n",
        "\n",
        "my_aquarium=Aquarium()\n",
        "my_aquarium.enters(\"Turtle\")\n",
        "my_aquarium.enters(\"Turtle\")\n",
        "my_aquarium.enters(\"Dolphin\")\n",
        "my_aquarium.enters(\"Sea lion\")\n",
        "my_aquarium.enters(\"Shark\")\n",
        "my_aquarium.showall()\n",
        "my_aquarium.leaves(\"Sea lion\")\n",
        "my_aquarium.leaves(\"Killer whale\")\n",
        "my_aquarium.showall()\n",
        "my_aquarium.leaves(\"Turtle\")\n",
        "my_aquarium.showall()\n"
      ],
      "execution_count": null,
      "outputs": [
        {
          "output_type": "stream",
          "text": [
            "Turtle\n",
            "Turtle\n",
            "Dolphin\n",
            "Sea lion\n",
            "Shark\n",
            "creature doesn't exist in the aquarium\n",
            "Turtle\n",
            "Turtle\n",
            "Dolphin\n",
            "Shark\n",
            "Turtle\n",
            "Dolphin\n",
            "Shark\n"
          ],
          "name": "stdout"
        }
      ]
    },
    {
      "cell_type": "code",
      "metadata": {
        "id": "BCw4_16j5bET"
      },
      "source": [
        "## Quiz #0105 \n",
        "import string\n",
        "def ignore_punctuations(word):\n",
        "    return \"\".join(i.lower() for i in word if i in string.ascii_letters)\n",
        "\n",
        "def palindrome(d):\n",
        "  B=ignore_punctuations(d)\n",
        "  for c in B :\n",
        "    T=B[::-1]\n",
        "  if T==B:\n",
        "    return \"YES\"\n",
        "  else:\n",
        "      return \"NO\"\n",
        "\n"
      ],
      "execution_count": null,
      "outputs": []
    },
    {
      "cell_type": "code",
      "metadata": {
        "colab": {
          "base_uri": "https://localhost:8080/",
          "height": 35
        },
        "id": "9yShIw05IdXX",
        "outputId": "c436a9c6-281e-4fa1-a831-5d25c7850460"
      },
      "source": [
        "palindrome(\"Kayak\")"
      ],
      "execution_count": null,
      "outputs": [
        {
          "output_type": "execute_result",
          "data": {
            "application/vnd.google.colaboratory.intrinsic+json": {
              "type": "string"
            },
            "text/plain": [
              "'YES'"
            ]
          },
          "metadata": {
            "tags": []
          },
          "execution_count": 117
        }
      ]
    },
    {
      "cell_type": "code",
      "metadata": {
        "colab": {
          "base_uri": "https://localhost:8080/",
          "height": 35
        },
        "id": "rrpZ6TwRIhXf",
        "outputId": "088e4dc7-3d1d-4eda-bbee-074fee4782ac"
      },
      "source": [
        "palindrome(\"Madam, I'm Adam\")"
      ],
      "execution_count": null,
      "outputs": [
        {
          "output_type": "execute_result",
          "data": {
            "application/vnd.google.colaboratory.intrinsic+json": {
              "type": "string"
            },
            "text/plain": [
              "'YES'"
            ]
          },
          "metadata": {
            "tags": []
          },
          "execution_count": 116
        }
      ]
    },
    {
      "cell_type": "code",
      "metadata": {
        "colab": {
          "base_uri": "https://localhost:8080/",
          "height": 35
        },
        "id": "HEAmeyErIkYt",
        "outputId": "d5b602de-1867-475f-9fc9-f718ea51e851"
      },
      "source": [
        "palindrome(\"Hello\")"
      ],
      "execution_count": null,
      "outputs": [
        {
          "output_type": "execute_result",
          "data": {
            "application/vnd.google.colaboratory.intrinsic+json": {
              "type": "string"
            },
            "text/plain": [
              "'NO'"
            ]
          },
          "metadata": {
            "tags": []
          },
          "execution_count": 118
        }
      ]
    }
  ]
}